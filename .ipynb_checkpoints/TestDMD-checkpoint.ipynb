{
 "cells": [
  {
   "cell_type": "code",
   "execution_count": 1,
   "id": "a61e6f81-6e9e-49c0-babf-a16219290dbc",
   "metadata": {},
   "outputs": [],
   "source": [
    "%load_ext autoreload"
   ]
  },
  {
   "cell_type": "code",
   "execution_count": 41,
   "id": "d29cfc8e-40bf-4a51-8420-345b8e54bb06",
   "metadata": {},
   "outputs": [],
   "source": [
    "%autoreload 2\n",
    "import numpy as np\n",
    "from scipy.integrate import solve_ivp\n",
    "import torch\n",
    "from tqdm.auto import tqdm\n",
    "\n",
    "from dmd import DMD"
   ]
  },
  {
   "cell_type": "markdown",
   "id": "e2298ffb-7fd1-4ebb-84a2-11f0c4033779",
   "metadata": {
    "jp-MarkdownHeadingCollapsed": true
   },
   "source": [
    "# Generate Data"
   ]
  },
  {
   "cell_type": "code",
   "execution_count": 10,
   "id": "ee6c39aa-d6d5-48cc-b625-a0e043b0b4fa",
   "metadata": {},
   "outputs": [],
   "source": [
    "def L63(vec, t, sigma=10, rho=28, beta=8/3):\n",
    "    x, y, z = vec[0], vec[1], vec[2]\n",
    "    d = np.zeros(3)\n",
    "    d[0] = sigma*(y - x)\n",
    "    d[1] = x*(rho - z) - y\n",
    "    d[2] = x*y - beta*z\n",
    "\n",
    "    return d\n",
    "\n",
    "dynamics_dict = {\n",
    "    'Lorenz63': L63\n",
    "}\n",
    "\n",
    "def generate_data(\n",
    "      system, # options: ['Lorenz63']\n",
    "      dt=0.01, # time step, in seconds\n",
    "      end_time=20, # end time of the simulation, in seconds\n",
    "      transient=0, # transient to drop\n",
    "      num_init_conds=1, # number of initial conditions to generate\n",
    "      init_cond_mean=0, # mean of initial condition\n",
    "      init_cond_std=1, # standard deviation of initial condition\n",
    "      system_kwargs={}, # keyword arguments to be provided to the system dynamics\n",
    "      expand_dim=None, # if provided, the dimension to expande the system to\n",
    "      expansion_nonlinearity=np.tanh, # nonlinearity to be applied to the expansion\n",
    "      verbose=False, # whether to track progress\n",
    "  ):\n",
    "\n",
    "  if system == 'Lorenz63':\n",
    "    n = 3\n",
    "\n",
    "  t_eval = np.arange(0, end_time, dt)\n",
    "  init_conds = np.random.randn(num_init_conds, n)*init_cond_std + init_cond_mean\n",
    "  pts = np.zeros((num_init_conds, len(t_eval), n))\n",
    "  for i, init_cond in tqdm(enumerate(init_conds), total=num_init_conds, disable=not verbose):\n",
    "    sol = solve_ivp(lambda t, x: dynamics_dict[system](x, t, **system_kwargs), [0, end_time], init_cond, t_eval=t_eval, rtol=1e-12)\n",
    "    pts[i] = sol.y.T\n",
    "\n",
    "  pts = pts[:, int(transient/dt):]\n",
    "\n",
    "  if expand_dim is not None:\n",
    "    W = np.random.randn(expand_dim, n)\n",
    "    pts = (W@pts.transpose(0, 2, 1)).transpose(0, 2, 1)\n",
    "    pts = (pts - pts.mean())/pts.std()\n",
    "    pts = expansion_nonlinearity(pts)\n",
    "\n",
    "  return pts"
   ]
  },
  {
   "cell_type": "code",
   "execution_count": 21,
   "id": "4fd2c036-44e1-4f7e-bb60-7f9f90831bcd",
   "metadata": {},
   "outputs": [
    {
     "data": {
      "application/vnd.jupyter.widget-view+json": {
       "model_id": "4494954797284c8ab01a615deb4366fb",
       "version_major": 2,
       "version_minor": 0
      },
      "text/plain": [
       "HBox(children=(IntProgress(value=0, max=1), HTML(value='')))"
      ]
     },
     "metadata": {},
     "output_type": "display_data"
    },
    {
     "name": "stdout",
     "output_type": "stream",
     "text": [
      "\n"
     ]
    }
   ],
   "source": [
    "# Lorenz63 kwargs\n",
    "L63_kwargs = dict(\n",
    "  system = 'Lorenz63',\n",
    "\n",
    "  dt=0.1, # time step, in seconds\n",
    "  end_time=2000, # end time of the simulation, in seconds\n",
    "  transient=200, # transient to drop, in seconds\n",
    "\n",
    "  # dt=0.01, # time step, in seconds\n",
    "  # end_time=50, # end time of the simulation, in seconds\n",
    "  # transient=20, # transient to drop, in seconds\n",
    "\n",
    "  num_init_conds=1, # number of initial conditions to generate\n",
    "  init_cond_mean=0, # mean of initial condition\n",
    "  # init_cond_std=1, # standard deviation of initial condition\n",
    "  # system_kwargs={}, # keyword arguments to be provided to the system dynamics\n",
    "  expand_dim=None, # if provided, the dimensi,on to expande the system to\n",
    "  expansion_nonlinearity=np.tanh, # nonlinearity to be applied to the expansion,\n",
    "\n",
    "  verbose=True\n",
    ")\n",
    "\n",
    "system_kwargs = L63_kwargs\n",
    "\n",
    "pts = generate_data(\n",
    "  **system_kwargs\n",
    ")"
   ]
  },
  {
   "cell_type": "code",
   "execution_count": 22,
   "id": "e4d5c45f-e7c7-4c56-b8ef-35f12ac64740",
   "metadata": {},
   "outputs": [],
   "source": [
    "pts = pts[0]\n",
    "pts = pts - pts.mean(axis=0)"
   ]
  },
  {
   "cell_type": "markdown",
   "id": "e35b07bf-98a1-4a25-a902-0c3a0bca7bac",
   "metadata": {},
   "source": [
    "# Test"
   ]
  },
  {
   "cell_type": "code",
   "execution_count": 47,
   "id": "2aca1422-a601-41e9-a450-0cb6c0f1dc77",
   "metadata": {},
   "outputs": [],
   "source": [
    "dmd = DMD(pts[:10000], 5, verbose=True)"
   ]
  },
  {
   "cell_type": "code",
   "execution_count": 48,
   "id": "58b82be5-9925-4cd1-bae8-181dbba34fbc",
   "metadata": {},
   "outputs": [
    {
     "name": "stdout",
     "output_type": "stream",
     "text": [
      "Computing Hankel matrix ...\n",
      "Hankel matrix computed!\n",
      "Computing SVD on Hankel matrix ...\n",
      "SVD complete!\n",
      "Computing least squares fits to HAVOK DMD ...\n"
     ]
    },
    {
     "ename": "TypeError",
     "evalue": "'>' not supported between instances of 'Tensor' and 'NoneType'",
     "output_type": "error",
     "traceback": [
      "\u001b[0;31m---------------------------------------------------------------------------\u001b[0m",
      "\u001b[0;31mTypeError\u001b[0m                                 Traceback (most recent call last)",
      "Cell \u001b[0;32mIn[48], line 1\u001b[0m\n\u001b[0;32m----> 1\u001b[0m \u001b[43mdmd\u001b[49m\u001b[38;5;241;43m.\u001b[39;49m\u001b[43mfit\u001b[49m\u001b[43m(\u001b[49m\u001b[43m)\u001b[49m\n",
      "File \u001b[0;32m~/Documents/MIT/code/DSA/dmd.py:339\u001b[0m, in \u001b[0;36mDMD.fit\u001b[0;34m(self, data, n_delays, delay_interval, rank, rank_thresh, lamb, device, verbose)\u001b[0m\n\u001b[1;32m    337\u001b[0m \u001b[38;5;28mself\u001b[39m\u001b[38;5;241m.\u001b[39mcompute_hankel(data, n_delays, delay_interval)\n\u001b[1;32m    338\u001b[0m \u001b[38;5;28mself\u001b[39m\u001b[38;5;241m.\u001b[39mcompute_svd()\n\u001b[0;32m--> 339\u001b[0m \u001b[38;5;28;43mself\u001b[39;49m\u001b[38;5;241;43m.\u001b[39;49m\u001b[43mcompute_havok_dmd\u001b[49m\u001b[43m(\u001b[49m\u001b[43mrank\u001b[49m\u001b[43m,\u001b[49m\u001b[43m \u001b[49m\u001b[43mrank_thresh\u001b[49m\u001b[43m,\u001b[49m\u001b[43m \u001b[49m\u001b[43mlamb\u001b[49m\u001b[43m)\u001b[49m\n",
      "File \u001b[0;32m~/Documents/MIT/code/DSA/dmd.py:262\u001b[0m, in \u001b[0;36mDMD.compute_havok_dmd\u001b[0;34m(self, rank, rank_thresh, lamb)\u001b[0m\n\u001b[1;32m    259\u001b[0m     Vt_plus \u001b[38;5;241m=\u001b[39m \u001b[38;5;28mself\u001b[39m\u001b[38;5;241m.\u001b[39mV[\u001b[38;5;241m1\u001b[39m:]\n\u001b[1;32m    261\u001b[0m \u001b[38;5;28;01mif\u001b[39;00m \u001b[38;5;28mself\u001b[39m\u001b[38;5;241m.\u001b[39mrank \u001b[38;5;129;01mis\u001b[39;00m \u001b[38;5;28;01mNone\u001b[39;00m:\n\u001b[0;32m--> 262\u001b[0m     \u001b[38;5;28;01mif\u001b[39;00m \u001b[38;5;28;43mself\u001b[39;49m\u001b[38;5;241;43m.\u001b[39;49m\u001b[43mS\u001b[49m\u001b[43m[\u001b[49m\u001b[38;5;241;43m-\u001b[39;49m\u001b[38;5;241;43m1\u001b[39;49m\u001b[43m]\u001b[49m\u001b[43m \u001b[49m\u001b[38;5;241;43m>\u001b[39;49m\u001b[43m \u001b[49m\u001b[38;5;28;43mself\u001b[39;49m\u001b[38;5;241;43m.\u001b[39;49m\u001b[43mrank_thresh\u001b[49m:\n\u001b[1;32m    263\u001b[0m         \u001b[38;5;28mself\u001b[39m\u001b[38;5;241m.\u001b[39mrank \u001b[38;5;241m=\u001b[39m \u001b[38;5;28mlen\u001b[39m(\u001b[38;5;28mself\u001b[39m\u001b[38;5;241m.\u001b[39mS)\n\u001b[1;32m    264\u001b[0m     \u001b[38;5;28;01melse\u001b[39;00m:\n",
      "\u001b[0;31mTypeError\u001b[0m: '>' not supported between instances of 'Tensor' and 'NoneType'"
     ]
    }
   ],
   "source": [
    "dmd.fit()"
   ]
  },
  {
   "cell_type": "code",
   "execution_count": null,
   "id": "4807a051-dfe5-42c6-95cb-bdc6e75ed722",
   "metadata": {},
   "outputs": [],
   "source": []
  }
 ],
 "metadata": {
  "kernelspec": {
   "display_name": "Python 3 (ipykernel)",
   "language": "python",
   "name": "python3"
  },
  "language_info": {
   "codemirror_mode": {
    "name": "ipython",
    "version": 3
   },
   "file_extension": ".py",
   "mimetype": "text/x-python",
   "name": "python",
   "nbconvert_exporter": "python",
   "pygments_lexer": "ipython3",
   "version": "3.11.4"
  }
 },
 "nbformat": 4,
 "nbformat_minor": 5
}
